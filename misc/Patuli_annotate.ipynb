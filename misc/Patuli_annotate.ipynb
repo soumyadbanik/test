{
 "cells": [
  {
   "cell_type": "code",
   "execution_count": 1,
   "id": "bulgarian-experience",
   "metadata": {},
   "outputs": [],
   "source": [
    "import xml.etree.ElementTree as ET\n",
    "import cv2, time"
   ]
  },
  {
   "cell_type": "code",
   "execution_count": 2,
   "id": "vietnamese-tobacco",
   "metadata": {},
   "outputs": [],
   "source": [
    "tree = ET.parse('annotations.xml')\n",
    "root = tree.getroot()"
   ]
  },
  {
   "cell_type": "code",
   "execution_count": 3,
   "id": "contained-holocaust",
   "metadata": {
    "tags": []
   },
   "outputs": [
    {
     "data": {
      "text/plain": [
       "'annotations'"
      ]
     },
     "execution_count": 3,
     "metadata": {},
     "output_type": "execute_result"
    }
   ],
   "source": [
    "root.tag"
   ]
  },
  {
   "cell_type": "code",
   "execution_count": 4,
   "id": "interstate-oxide",
   "metadata": {},
   "outputs": [
    {
     "name": "stdout",
     "output_type": "stream",
     "text": [
      "version {}\n",
      "meta {}\n",
      "track {'id': '0', 'label': 'car', 'source': 'manual'}\n"
     ]
    }
   ],
   "source": [
    "for child in root:\n",
    "    print(child.tag,child.attrib)\n",
    "    #print(child.attrib)"
   ]
  },
  {
   "cell_type": "code",
   "execution_count": 5,
   "id": "catholic-southeast",
   "metadata": {
    "collapsed": true,
    "jupyter": {
     "outputs_hidden": true
    },
    "tags": []
   },
   "outputs": [
    {
     "name": "stdout",
     "output_type": "stream",
     "text": [
      "{'frame': '66', 'outside': '0', 'occluded': '0', 'keyframe': '1', 'xtl': '869.10', 'ytl': '109.04', 'xbr': '879.50', 'ybr': '119.60', 'z_order': '0'}\n",
      "{'frame': '67', 'outside': '0', 'occluded': '0', 'keyframe': '0', 'xtl': '869.67', 'ytl': '111.09', 'xbr': '880.13', 'ybr': '121.95', 'z_order': '0'}\n",
      "{'frame': '68', 'outside': '0', 'occluded': '0', 'keyframe': '0', 'xtl': '870.23', 'ytl': '113.15', 'xbr': '880.77', 'ybr': '124.30', 'z_order': '0'}\n",
      "{'frame': '69', 'outside': '0', 'occluded': '0', 'keyframe': '1', 'xtl': '870.80', 'ytl': '115.20', 'xbr': '881.40', 'ybr': '126.64', 'z_order': '0'}\n",
      "{'frame': '70', 'outside': '0', 'occluded': '0', 'keyframe': '0', 'xtl': '871.57', 'ytl': '117.58', 'xbr': '882.27', 'ybr': '128.99', 'z_order': '0'}\n",
      "{'frame': '71', 'outside': '0', 'occluded': '0', 'keyframe': '0', 'xtl': '872.35', 'ytl': '119.95', 'xbr': '883.14', 'ybr': '131.34', 'z_order': '0'}\n",
      "{'frame': '72', 'outside': '0', 'occluded': '0', 'keyframe': '0', 'xtl': '873.12', 'ytl': '122.33', 'xbr': '884.01', 'ybr': '133.69', 'z_order': '0'}\n",
      "{'frame': '73', 'outside': '0', 'occluded': '0', 'keyframe': '1', 'xtl': '873.90', 'ytl': '124.70', 'xbr': '884.88', 'ybr': '136.03', 'z_order': '0'}\n",
      "{'frame': '74', 'outside': '0', 'occluded': '0', 'keyframe': '1', 'xtl': '874.92', 'ytl': '127.24', 'xbr': '885.70', 'ybr': '137.90', 'z_order': '0'}\n",
      "{'frame': '75', 'outside': '0', 'occluded': '0', 'keyframe': '0', 'xtl': '875.93', 'ytl': '129.78', 'xbr': '886.59', 'ybr': '140.41', 'z_order': '0'}\n",
      "{'frame': '76', 'outside': '0', 'occluded': '0', 'keyframe': '0', 'xtl': '876.95', 'ytl': '132.32', 'xbr': '887.48', 'ybr': '142.92', 'z_order': '0'}\n",
      "{'frame': '77', 'outside': '0', 'occluded': '0', 'keyframe': '1', 'xtl': '877.97', 'ytl': '134.86', 'xbr': '888.37', 'ybr': '145.42', 'z_order': '0'}\n",
      "{'frame': '78', 'outside': '0', 'occluded': '0', 'keyframe': '0', 'xtl': '878.92', 'ytl': '137.41', 'xbr': '889.42', 'ybr': '148.04', 'z_order': '0'}\n",
      "{'frame': '79', 'outside': '0', 'occluded': '0', 'keyframe': '0', 'xtl': '879.87', 'ytl': '139.96', 'xbr': '890.47', 'ybr': '150.66', 'z_order': '0'}\n",
      "{'frame': '80', 'outside': '0', 'occluded': '0', 'keyframe': '0', 'xtl': '880.81', 'ytl': '142.50', 'xbr': '891.53', 'ybr': '153.28', 'z_order': '0'}\n",
      "{'frame': '81', 'outside': '0', 'occluded': '0', 'keyframe': '0', 'xtl': '881.76', 'ytl': '145.05', 'xbr': '892.58', 'ybr': '155.89', 'z_order': '0'}\n",
      "{'frame': '82', 'outside': '0', 'occluded': '0', 'keyframe': '0', 'xtl': '882.71', 'ytl': '147.60', 'xbr': '893.63', 'ybr': '158.51', 'z_order': '0'}\n",
      "{'frame': '83', 'outside': '0', 'occluded': '0', 'keyframe': '0', 'xtl': '883.66', 'ytl': '150.14', 'xbr': '894.69', 'ybr': '161.13', 'z_order': '0'}\n",
      "{'frame': '84', 'outside': '0', 'occluded': '0', 'keyframe': '0', 'xtl': '884.61', 'ytl': '152.69', 'xbr': '895.74', 'ybr': '163.75', 'z_order': '0'}\n",
      "{'frame': '85', 'outside': '0', 'occluded': '0', 'keyframe': '0', 'xtl': '885.56', 'ytl': '155.24', 'xbr': '896.79', 'ybr': '166.36', 'z_order': '0'}\n",
      "{'frame': '86', 'outside': '0', 'occluded': '0', 'keyframe': '0', 'xtl': '886.51', 'ytl': '157.78', 'xbr': '897.85', 'ybr': '168.98', 'z_order': '0'}\n",
      "{'frame': '87', 'outside': '0', 'occluded': '0', 'keyframe': '1', 'xtl': '887.46', 'ytl': '160.33', 'xbr': '898.90', 'ybr': '171.60', 'z_order': '0'}\n",
      "{'frame': '88', 'outside': '0', 'occluded': '0', 'keyframe': '0', 'xtl': '888.46', 'ytl': '162.91', 'xbr': '899.86', 'ybr': '174.24', 'z_order': '0'}\n",
      "{'frame': '89', 'outside': '0', 'occluded': '0', 'keyframe': '0', 'xtl': '889.46', 'ytl': '165.48', 'xbr': '900.83', 'ybr': '176.88', 'z_order': '0'}\n",
      "{'frame': '90', 'outside': '0', 'occluded': '0', 'keyframe': '0', 'xtl': '890.46', 'ytl': '168.06', 'xbr': '901.79', 'ybr': '179.51', 'z_order': '0'}\n",
      "{'frame': '91', 'outside': '0', 'occluded': '0', 'keyframe': '0', 'xtl': '891.47', 'ytl': '170.64', 'xbr': '902.75', 'ybr': '182.15', 'z_order': '0'}\n",
      "{'frame': '92', 'outside': '0', 'occluded': '0', 'keyframe': '0', 'xtl': '892.47', 'ytl': '173.21', 'xbr': '903.71', 'ybr': '184.79', 'z_order': '0'}\n",
      "{'frame': '93', 'outside': '0', 'occluded': '0', 'keyframe': '0', 'xtl': '893.47', 'ytl': '175.79', 'xbr': '904.68', 'ybr': '187.43', 'z_order': '0'}\n",
      "{'frame': '94', 'outside': '0', 'occluded': '0', 'keyframe': '0', 'xtl': '894.48', 'ytl': '178.37', 'xbr': '905.64', 'ybr': '190.06', 'z_order': '0'}\n",
      "{'frame': '95', 'outside': '0', 'occluded': '0', 'keyframe': '1', 'xtl': '895.48', 'ytl': '180.95', 'xbr': '906.60', 'ybr': '192.70', 'z_order': '0'}\n",
      "{'frame': '96', 'outside': '0', 'occluded': '0', 'keyframe': '0', 'xtl': '896.48', 'ytl': '183.90', 'xbr': '907.95', 'ybr': '196.10', 'z_order': '0'}\n",
      "{'frame': '97', 'outside': '0', 'occluded': '0', 'keyframe': '1', 'xtl': '897.49', 'ytl': '186.85', 'xbr': '909.30', 'ybr': '199.50', 'z_order': '0'}\n",
      "{'frame': '98', 'outside': '0', 'occluded': '0', 'keyframe': '0', 'xtl': '898.70', 'ytl': '189.69', 'xbr': '910.50', 'ybr': '202.34', 'z_order': '0'}\n",
      "{'frame': '99', 'outside': '0', 'occluded': '0', 'keyframe': '0', 'xtl': '899.92', 'ytl': '192.53', 'xbr': '911.70', 'ybr': '205.18', 'z_order': '0'}\n",
      "{'frame': '100', 'outside': '0', 'occluded': '0', 'keyframe': '0', 'xtl': '901.13', 'ytl': '195.37', 'xbr': '912.90', 'ybr': '208.02', 'z_order': '0'}\n",
      "{'frame': '101', 'outside': '0', 'occluded': '0', 'keyframe': '0', 'xtl': '902.34', 'ytl': '198.21', 'xbr': '914.10', 'ybr': '210.86', 'z_order': '0'}\n",
      "{'frame': '102', 'outside': '0', 'occluded': '0', 'keyframe': '1', 'xtl': '903.56', 'ytl': '201.05', 'xbr': '915.30', 'ybr': '213.70', 'z_order': '0'}\n",
      "{'frame': '103', 'outside': '0', 'occluded': '0', 'keyframe': '0', 'xtl': '904.59', 'ytl': '204.34', 'xbr': '916.65', 'ybr': '217.00', 'z_order': '0'}\n",
      "{'frame': '104', 'outside': '0', 'occluded': '0', 'keyframe': '1', 'xtl': '905.62', 'ytl': '207.64', 'xbr': '918.00', 'ybr': '220.29', 'z_order': '0'}\n",
      "{'frame': '105', 'outside': '0', 'occluded': '0', 'keyframe': '1', 'xtl': '907.70', 'ytl': '211.90', 'xbr': '920.07', 'ybr': '224.79', 'z_order': '0'}\n",
      "{'frame': '106', 'outside': '0', 'occluded': '0', 'keyframe': '0', 'xtl': '908.69', 'ytl': '213.85', 'xbr': '920.78', 'ybr': '227.01', 'z_order': '0'}\n",
      "{'frame': '107', 'outside': '0', 'occluded': '0', 'keyframe': '1', 'xtl': '909.67', 'ytl': '215.80', 'xbr': '921.48', 'ybr': '229.24', 'z_order': '0'}\n",
      "{'frame': '108', 'outside': '0', 'occluded': '0', 'keyframe': '1', 'xtl': '911.51', 'ytl': '220.10', 'xbr': '923.49', 'ybr': '233.52', 'z_order': '0'}\n",
      "{'frame': '109', 'outside': '0', 'occluded': '0', 'keyframe': '1', 'xtl': '912.30', 'ytl': '222.50', 'xbr': '924.70', 'ybr': '236.30', 'z_order': '0'}\n",
      "{'frame': '110', 'outside': '0', 'occluded': '0', 'keyframe': '1', 'xtl': '913.95', 'ytl': '226.92', 'xbr': '926.47', 'ybr': '240.63', 'z_order': '0'}\n",
      "{'frame': '111', 'outside': '0', 'occluded': '0', 'keyframe': '0', 'xtl': '915.24', 'ytl': '229.62', 'xbr': '927.87', 'ybr': '243.25', 'z_order': '0'}\n",
      "{'frame': '112', 'outside': '0', 'occluded': '0', 'keyframe': '1', 'xtl': '916.54', 'ytl': '232.33', 'xbr': '929.28', 'ybr': '245.87', 'z_order': '0'}\n",
      "{'frame': '113', 'outside': '0', 'occluded': '0', 'keyframe': '0', 'xtl': '917.83', 'ytl': '235.89', 'xbr': '930.68', 'ybr': '249.35', 'z_order': '0'}\n",
      "{'frame': '114', 'outside': '0', 'occluded': '0', 'keyframe': '0', 'xtl': '919.12', 'ytl': '239.45', 'xbr': '932.09', 'ybr': '252.82', 'z_order': '0'}\n",
      "{'frame': '115', 'outside': '0', 'occluded': '0', 'keyframe': '1', 'xtl': '920.41', 'ytl': '243.02', 'xbr': '933.50', 'ybr': '256.30', 'z_order': '0'}\n",
      "{'frame': '116', 'outside': '0', 'occluded': '0', 'keyframe': '1', 'xtl': '921.76', 'ytl': '245.46', 'xbr': '935.00', 'ybr': '258.67', 'z_order': '0'}\n",
      "{'frame': '117', 'outside': '0', 'occluded': '0', 'keyframe': '1', 'xtl': '923.10', 'ytl': '250.50', 'xbr': '936.50', 'ybr': '263.64', 'z_order': '0'}\n",
      "{'frame': '118', 'outside': '0', 'occluded': '0', 'keyframe': '1', 'xtl': '924.43', 'ytl': '252.62', 'xbr': '937.92', 'ybr': '266.90', 'z_order': '0'}\n",
      "{'frame': '119', 'outside': '0', 'occluded': '0', 'keyframe': '1', 'xtl': '925.70', 'ytl': '255.10', 'xbr': '939.40', 'ybr': '269.40', 'z_order': '0'}\n",
      "{'frame': '120', 'outside': '0', 'occluded': '0', 'keyframe': '0', 'xtl': '927.09', 'ytl': '258.98', 'xbr': '940.84', 'ybr': '273.55', 'z_order': '0'}\n",
      "{'frame': '121', 'outside': '0', 'occluded': '0', 'keyframe': '1', 'xtl': '928.48', 'ytl': '262.86', 'xbr': '942.28', 'ybr': '277.69', 'z_order': '0'}\n",
      "{'frame': '122', 'outside': '0', 'occluded': '0', 'keyframe': '1', 'xtl': '930.95', 'ytl': '268.90', 'xbr': '944.80', 'ybr': '284.00', 'z_order': '0'}\n",
      "{'frame': '123', 'outside': '0', 'occluded': '0', 'keyframe': '1', 'xtl': '931.82', 'ytl': '271.70', 'xbr': '945.64', 'ybr': '286.83', 'z_order': '0'}\n",
      "{'frame': '124', 'outside': '0', 'occluded': '0', 'keyframe': '1', 'xtl': '932.73', 'ytl': '275.03', 'xbr': '946.52', 'ybr': '290.20', 'z_order': '0'}\n",
      "{'frame': '125', 'outside': '0', 'occluded': '0', 'keyframe': '1', 'xtl': '935.66', 'ytl': '282.10', 'xbr': '949.41', 'ybr': '297.30', 'z_order': '0'}\n",
      "{'frame': '126', 'outside': '0', 'occluded': '0', 'keyframe': '1', 'xtl': '936.53', 'ytl': '285.60', 'xbr': '950.25', 'ybr': '300.60', 'z_order': '0'}\n",
      "{'frame': '127', 'outside': '0', 'occluded': '0', 'keyframe': '1', 'xtl': '938.80', 'ytl': '292.50', 'xbr': '952.48', 'ybr': '307.30', 'z_order': '0'}\n",
      "{'frame': '128', 'outside': '0', 'occluded': '0', 'keyframe': '1', 'xtl': '939.96', 'ytl': '296.75', 'xbr': '953.81', 'ybr': '311.61', 'z_order': '0'}\n",
      "{'frame': '129', 'outside': '0', 'occluded': '0', 'keyframe': '1', 'xtl': '942.50', 'ytl': '303.76', 'xbr': '956.51', 'ybr': '318.69', 'z_order': '0'}\n",
      "{'frame': '130', 'outside': '0', 'occluded': '0', 'keyframe': '0', 'xtl': '943.66', 'ytl': '307.66', 'xbr': '957.84', 'ybr': '322.66', 'z_order': '0'}\n",
      "{'frame': '131', 'outside': '0', 'occluded': '0', 'keyframe': '1', 'xtl': '944.82', 'ytl': '311.56', 'xbr': '959.16', 'ybr': '326.63', 'z_order': '0'}\n",
      "{'frame': '132', 'outside': '0', 'occluded': '0', 'keyframe': '1', 'xtl': '947.41', 'ytl': '319.13', 'xbr': '961.91', 'ybr': '334.27', 'z_order': '0'}\n",
      "{'frame': '133', 'outside': '0', 'occluded': '0', 'keyframe': '1', 'xtl': '948.30', 'ytl': '322.80', 'xbr': '962.96', 'ybr': '338.00', 'z_order': '0'}\n",
      "{'frame': '134', 'outside': '0', 'occluded': '0', 'keyframe': '1', 'xtl': '951.03', 'ytl': '330.32', 'xbr': '965.92', 'ybr': '345.91', 'z_order': '0'}\n",
      "{'frame': '135', 'outside': '0', 'occluded': '0', 'keyframe': '1', 'xtl': '952.10', 'ytl': '334.70', 'xbr': '967.16', 'ybr': '350.40', 'z_order': '0'}\n",
      "{'frame': '136', 'outside': '0', 'occluded': '0', 'keyframe': '1', 'xtl': '954.55', 'ytl': '342.44', 'xbr': '969.78', 'ybr': '358.24', 'z_order': '0'}\n",
      "{'frame': '137', 'outside': '0', 'occluded': '0', 'keyframe': '1', 'xtl': '955.80', 'ytl': '346.00', 'xbr': '971.20', 'ybr': '361.90', 'z_order': '0'}\n",
      "{'frame': '138', 'outside': '0', 'occluded': '0', 'keyframe': '1', 'xtl': '957.02', 'ytl': '350.22', 'xbr': '972.55', 'ybr': '366.36', 'z_order': '0'}\n",
      "{'frame': '139', 'outside': '0', 'occluded': '0', 'keyframe': '1', 'xtl': '959.85', 'ytl': '358.27', 'xbr': '975.52', 'ybr': '374.63', 'z_order': '0'}\n",
      "{'frame': '140', 'outside': '0', 'occluded': '0', 'keyframe': '1', 'xtl': '961.15', 'ytl': '362.37', 'xbr': '976.95', 'ybr': '378.97', 'z_order': '0'}\n",
      "{'frame': '141', 'outside': '0', 'occluded': '0', 'keyframe': '1', 'xtl': '964.17', 'ytl': '370.77', 'xbr': '980.11', 'ybr': '387.60', 'z_order': '0'}\n",
      "{'frame': '142', 'outside': '0', 'occluded': '0', 'keyframe': '0', 'xtl': '965.44', 'ytl': '374.64', 'xbr': '981.50', 'ybr': '391.70', 'z_order': '0'}\n",
      "{'frame': '143', 'outside': '0', 'occluded': '0', 'keyframe': '1', 'xtl': '966.70', 'ytl': '378.50', 'xbr': '982.90', 'ybr': '395.80', 'z_order': '0'}\n",
      "{'frame': '144', 'outside': '1', 'occluded': '0', 'keyframe': '1', 'xtl': '966.70', 'ytl': '378.50', 'xbr': '982.90', 'ybr': '395.80', 'z_order': '0'}\n"
     ]
    }
   ],
   "source": [
    "for box in root.iter('box'):\n",
    "    print(box.attrib)"
   ]
  },
  {
   "cell_type": "code",
   "execution_count": 10,
   "id": "tribal-taste",
   "metadata": {},
   "outputs": [
    {
     "ename": "error",
     "evalue": "OpenCV(4.5.1) /tmp/pip-req-build-jr1ur_cf/opencv/modules/imgcodecs/src/loadsave.cpp:753: error: (-215:Assertion failed) !_img.empty() in function 'imwrite'\n",
     "output_type": "error",
     "traceback": [
      "\u001b[0;31m---------------------------------------------------------------------------\u001b[0m",
      "\u001b[0;31merror\u001b[0m                                     Traceback (most recent call last)",
      "\u001b[0;32m<ipython-input-10-289c98d450d6>\u001b[0m in \u001b[0;36m<module>\u001b[0;34m\u001b[0m\n\u001b[1;32m     21\u001b[0m             \u001b[0;31m#width = xmax-xmin\u001b[0m\u001b[0;34m\u001b[0m\u001b[0;34m\u001b[0m\u001b[0;34m\u001b[0m\u001b[0m\n\u001b[1;32m     22\u001b[0m             \u001b[0mbox\u001b[0m \u001b[0;34m=\u001b[0m \u001b[0mcv2\u001b[0m\u001b[0;34m.\u001b[0m\u001b[0mrectangle\u001b[0m\u001b[0;34m(\u001b[0m\u001b[0mim\u001b[0m\u001b[0;34m,\u001b[0m\u001b[0;34m(\u001b[0m\u001b[0mxmin\u001b[0m\u001b[0;34m,\u001b[0m\u001b[0mymin\u001b[0m\u001b[0;34m)\u001b[0m\u001b[0;34m,\u001b[0m \u001b[0;34m(\u001b[0m\u001b[0mxmax\u001b[0m\u001b[0;34m,\u001b[0m\u001b[0mymax\u001b[0m\u001b[0;34m)\u001b[0m\u001b[0;34m,\u001b[0m \u001b[0mcolor\u001b[0m\u001b[0;34m,\u001b[0m \u001b[0;36m2\u001b[0m\u001b[0;34m)\u001b[0m\u001b[0;34m\u001b[0m\u001b[0;34m\u001b[0m\u001b[0m\n\u001b[0;32m---> 23\u001b[0;31m             \u001b[0mcv2\u001b[0m\u001b[0;34m.\u001b[0m\u001b[0mimwrite\u001b[0m\u001b[0;34m(\u001b[0m\u001b[0;34m\"key_frames/frame\"\u001b[0m\u001b[0;34m+\u001b[0m\u001b[0mstr\u001b[0m\u001b[0;34m(\u001b[0m\u001b[0mint\u001b[0m\u001b[0;34m(\u001b[0m\u001b[0mfrno\u001b[0m\u001b[0;34m)\u001b[0m\u001b[0;34m)\u001b[0m\u001b[0;34m+\u001b[0m\u001b[0;34m\".jpg\"\u001b[0m\u001b[0;34m,\u001b[0m \u001b[0mbox\u001b[0m\u001b[0;34m)\u001b[0m\u001b[0;34m\u001b[0m\u001b[0;34m\u001b[0m\u001b[0m\n\u001b[0m\u001b[1;32m     24\u001b[0m             \u001b[0;31m#cv2.imwrite('key_frames/frame{:03d}.jpg'.format(frno), box)\u001b[0m\u001b[0;34m\u001b[0m\u001b[0;34m\u001b[0m\u001b[0;34m\u001b[0m\u001b[0m\n\u001b[1;32m     25\u001b[0m         \u001b[0;32mif\u001b[0m \u001b[0mcv2\u001b[0m\u001b[0;34m.\u001b[0m\u001b[0mwaitKey\u001b[0m\u001b[0;34m(\u001b[0m\u001b[0;36m25\u001b[0m\u001b[0;34m)\u001b[0m \u001b[0;34m&\u001b[0m \u001b[0;36m0xFF\u001b[0m \u001b[0;34m==\u001b[0m \u001b[0mord\u001b[0m\u001b[0;34m(\u001b[0m\u001b[0;34m'q'\u001b[0m\u001b[0;34m)\u001b[0m\u001b[0;34m:\u001b[0m\u001b[0;34m\u001b[0m\u001b[0;34m\u001b[0m\u001b[0m\n",
      "\u001b[0;31merror\u001b[0m: OpenCV(4.5.1) /tmp/pip-req-build-jr1ur_cf/opencv/modules/imgcodecs/src/loadsave.cpp:753: error: (-215:Assertion failed) !_img.empty() in function 'imwrite'\n"
     ]
    }
   ],
   "source": [
    "cap = cv2.VideoCapture('koldrone.mp4')\n",
    "if (cap.isOpened()== False):\n",
    "    print(\"Error opening video stream or file\")\n",
    "framecount = 0\n",
    "while(cap.isOpened()):\n",
    "    ret, fr = cap.read()\n",
    "    #for fr in (key_frames):\n",
    "    if ret == True:\n",
    "        framecount += 1\n",
    "        for box in root.iter('box'):\n",
    "            #frame.append(int(box.get('frame')))\n",
    "            frno = int(box.get('frame'))\n",
    "            xmax = int(float(box.get('xbr')))\n",
    "            ymax = int(float(box.get('ybr')))\n",
    "            xmin = int(float(box.get('xtl')))\n",
    "            ymin = int(float(box.get('ytl')))\n",
    "            #read frameno from allframes directory\n",
    "            im = cv2.imread('allframes/frames{}.jpg'.format(frno))\n",
    "            color=(0,0,255)\n",
    "            #height = ymax-ymin\n",
    "            #width = xmax-xmin\n",
    "            box = cv2.rectangle(im,(xmin,ymin), (xmax,ymax), color, 2)\n",
    "            cv2.imwrite(\"key_frames/frame\"+str(int(frno))+\".jpg\", box)\n",
    "            #cv2.imwrite('key_frames/frame{:03d}'.format(frno), box)\n",
    "                \n",
    "        if (framecount == 100) | (framecount == 104) | (framecount == 123):\n",
    "            print(\"Frame: {} -> (col, row)=({},{})\".format(framecount, x, y))\n",
    "            time.sleep(5)\n",
    "        else: \n",
    "            time.sleep(0.01)\n",
    "        if cv2.waitKey(25) & 0xFF == ord('q'):\n",
    "            break\n",
    "        else:\n",
    "            break\n",
    "        cap.release()\n",
    "        cv2.destroyAllWindows()"
   ]
  },
  {
   "cell_type": "markdown",
   "id": "insured-gothic",
   "metadata": {},
   "source": [
    "<h4>If I run the above code without cv2.imwrite(), then it shows no error and in the below cell I can save only the last annotated frame and see the image as well.</h4>"
   ]
  },
  {
   "cell_type": "code",
   "execution_count": 9,
   "id": "concerned-orange",
   "metadata": {},
   "outputs": [],
   "source": [
    "cv2.imwrite(\"key_frames/frame\"+str(int(frno))+\".jpg\", box)\n",
    "cv2.imshow('frame', box)\n",
    "cv2.waitKey(0)\n",
    "cv2.destroyAllWindows()"
   ]
  },
  {
   "cell_type": "code",
   "execution_count": null,
   "id": "stupid-gossip",
   "metadata": {},
   "outputs": [],
   "source": []
  }
 ],
 "metadata": {
  "kernelspec": {
   "display_name": "Python 3",
   "language": "python",
   "name": "python3"
  },
  "language_info": {
   "codemirror_mode": {
    "name": "ipython",
    "version": 3
   },
   "file_extension": ".py",
   "mimetype": "text/x-python",
   "name": "python",
   "nbconvert_exporter": "python",
   "pygments_lexer": "ipython3",
   "version": "3.8.5"
  }
 },
 "nbformat": 4,
 "nbformat_minor": 5
}
